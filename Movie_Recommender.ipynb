{
  "metadata": {
    "kernelspec": {
      "name": "python",
      "display_name": "Python (Pyodide)",
      "language": "python"
    },
    "language_info": {
      "codemirror_mode": {
        "name": "python",
        "version": 3
      },
      "file_extension": ".py",
      "mimetype": "text/x-python",
      "name": "python",
      "nbconvert_exporter": "python",
      "pygments_lexer": "ipython3",
      "version": "3.8"
    }
  },
  "nbformat_minor": 4,
  "nbformat": 4,
  "cells": [
    {
      "cell_type": "markdown",
      "source": "Importing the libraries",
      "metadata": {}
    },
    {
      "cell_type": "code",
      "source": "import numpy as np\nimport pandas as pd\nimport difflib\nfrom sklearn.feature_extraction.text import TfidfVectorizer\nfrom sklearn.metrics.pairwise import cosine_similarity",
      "metadata": {
        "trusted": true
      },
      "outputs": [
        {
          "name": "stderr",
          "text": "<ipython-input-2-ed7c4f6abf45>:2: DeprecationWarning: \nPyarrow will become a required dependency of pandas in the next major release of pandas (pandas 3.0),\n(to allow more performant data types, such as the Arrow string type, and better interoperability with other libraries)\nbut was not found to be installed on your system.\nIf this would cause problems for you,\nplease provide us feedback at https://github.com/pandas-dev/pandas/issues/54466\n        \n  import pandas as pd\n",
          "output_type": "stream"
        }
      ],
      "execution_count": 2
    },
    {
      "cell_type": "code",
      "source": "data = pd.read_csv(\"movies.csv\")",
      "metadata": {
        "trusted": true
      },
      "outputs": [],
      "execution_count": 3
    },
    {
      "cell_type": "code",
      "source": "# show the first five rows\ndata.head()",
      "metadata": {
        "trusted": true
      },
      "outputs": [
        {
          "execution_count": 4,
          "output_type": "execute_result",
          "data": {
            "text/plain": "   index     budget                                    genres  \\\n0      0  237000000  Action Adventure Fantasy Science Fiction   \n1      1  300000000                  Adventure Fantasy Action   \n2      2  245000000                    Action Adventure Crime   \n3      3  250000000               Action Crime Drama Thriller   \n4      4  260000000          Action Adventure Science Fiction   \n\n                                       homepage      id  \\\n0                   http://www.avatarmovie.com/   19995   \n1  http://disney.go.com/disneypictures/pirates/     285   \n2   http://www.sonypictures.com/movies/spectre/  206647   \n3            http://www.thedarkknightrises.com/   49026   \n4          http://movies.disney.com/john-carter   49529   \n\n                                            keywords original_language  \\\n0  culture clash future space war space colony so...                en   \n1  ocean drug abuse exotic island east india trad...                en   \n2         spy based on novel secret agent sequel mi6                en   \n3  dc comics crime fighter terrorist secret ident...                en   \n4  based on novel mars medallion space travel pri...                en   \n\n                             original_title  \\\n0                                    Avatar   \n1  Pirates of the Caribbean: At World's End   \n2                                   Spectre   \n3                     The Dark Knight Rises   \n4                               John Carter   \n\n                                            overview  popularity  ... runtime  \\\n0  In the 22nd century, a paraplegic Marine is di...  150.437577  ...   162.0   \n1  Captain Barbossa, long believed to be dead, ha...  139.082615  ...   169.0   \n2  A cryptic message from Bond’s past sends him o...  107.376788  ...   148.0   \n3  Following the death of District Attorney Harve...  112.312950  ...   165.0   \n4  John Carter is a war-weary, former military ca...   43.926995  ...   132.0   \n\n                                    spoken_languages    status  \\\n0  [{\"iso_639_1\": \"en\", \"name\": \"English\"}, {\"iso...  Released   \n1           [{\"iso_639_1\": \"en\", \"name\": \"English\"}]  Released   \n2  [{\"iso_639_1\": \"fr\", \"name\": \"Fran\\u00e7ais\"},...  Released   \n3           [{\"iso_639_1\": \"en\", \"name\": \"English\"}]  Released   \n4           [{\"iso_639_1\": \"en\", \"name\": \"English\"}]  Released   \n\n                                          tagline  \\\n0                     Enter the World of Pandora.   \n1  At the end of the world, the adventure begins.   \n2                           A Plan No One Escapes   \n3                                 The Legend Ends   \n4            Lost in our world, found in another.   \n\n                                      title vote_average vote_count  \\\n0                                    Avatar          7.2      11800   \n1  Pirates of the Caribbean: At World's End          6.9       4500   \n2                                   Spectre          6.3       4466   \n3                     The Dark Knight Rises          7.6       9106   \n4                               John Carter          6.1       2124   \n\n                                                cast  \\\n0  Sam Worthington Zoe Saldana Sigourney Weaver S...   \n1  Johnny Depp Orlando Bloom Keira Knightley Stel...   \n2  Daniel Craig Christoph Waltz L\\u00e9a Seydoux ...   \n3  Christian Bale Michael Caine Gary Oldman Anne ...   \n4  Taylor Kitsch Lynn Collins Samantha Morton Wil...   \n\n                                                crew           director  \n0  [{'name': 'Stephen E. Rivkin', 'gender': 0, 'd...      James Cameron  \n1  [{'name': 'Dariusz Wolski', 'gender': 2, 'depa...     Gore Verbinski  \n2  [{'name': 'Thomas Newman', 'gender': 2, 'depar...         Sam Mendes  \n3  [{'name': 'Hans Zimmer', 'gender': 2, 'departm...  Christopher Nolan  \n4  [{'name': 'Andrew Stanton', 'gender': 2, 'depa...     Andrew Stanton  \n\n[5 rows x 24 columns]",
            "text/html": "<div>\n<style scoped>\n    .dataframe tbody tr th:only-of-type {\n        vertical-align: middle;\n    }\n\n    .dataframe tbody tr th {\n        vertical-align: top;\n    }\n\n    .dataframe thead th {\n        text-align: right;\n    }\n</style>\n<table border=\"1\" class=\"dataframe\">\n  <thead>\n    <tr style=\"text-align: right;\">\n      <th></th>\n      <th>index</th>\n      <th>budget</th>\n      <th>genres</th>\n      <th>homepage</th>\n      <th>id</th>\n      <th>keywords</th>\n      <th>original_language</th>\n      <th>original_title</th>\n      <th>overview</th>\n      <th>popularity</th>\n      <th>...</th>\n      <th>runtime</th>\n      <th>spoken_languages</th>\n      <th>status</th>\n      <th>tagline</th>\n      <th>title</th>\n      <th>vote_average</th>\n      <th>vote_count</th>\n      <th>cast</th>\n      <th>crew</th>\n      <th>director</th>\n    </tr>\n  </thead>\n  <tbody>\n    <tr>\n      <th>0</th>\n      <td>0</td>\n      <td>237000000</td>\n      <td>Action Adventure Fantasy Science Fiction</td>\n      <td>http://www.avatarmovie.com/</td>\n      <td>19995</td>\n      <td>culture clash future space war space colony so...</td>\n      <td>en</td>\n      <td>Avatar</td>\n      <td>In the 22nd century, a paraplegic Marine is di...</td>\n      <td>150.437577</td>\n      <td>...</td>\n      <td>162.0</td>\n      <td>[{\"iso_639_1\": \"en\", \"name\": \"English\"}, {\"iso...</td>\n      <td>Released</td>\n      <td>Enter the World of Pandora.</td>\n      <td>Avatar</td>\n      <td>7.2</td>\n      <td>11800</td>\n      <td>Sam Worthington Zoe Saldana Sigourney Weaver S...</td>\n      <td>[{'name': 'Stephen E. Rivkin', 'gender': 0, 'd...</td>\n      <td>James Cameron</td>\n    </tr>\n    <tr>\n      <th>1</th>\n      <td>1</td>\n      <td>300000000</td>\n      <td>Adventure Fantasy Action</td>\n      <td>http://disney.go.com/disneypictures/pirates/</td>\n      <td>285</td>\n      <td>ocean drug abuse exotic island east india trad...</td>\n      <td>en</td>\n      <td>Pirates of the Caribbean: At World's End</td>\n      <td>Captain Barbossa, long believed to be dead, ha...</td>\n      <td>139.082615</td>\n      <td>...</td>\n      <td>169.0</td>\n      <td>[{\"iso_639_1\": \"en\", \"name\": \"English\"}]</td>\n      <td>Released</td>\n      <td>At the end of the world, the adventure begins.</td>\n      <td>Pirates of the Caribbean: At World's End</td>\n      <td>6.9</td>\n      <td>4500</td>\n      <td>Johnny Depp Orlando Bloom Keira Knightley Stel...</td>\n      <td>[{'name': 'Dariusz Wolski', 'gender': 2, 'depa...</td>\n      <td>Gore Verbinski</td>\n    </tr>\n    <tr>\n      <th>2</th>\n      <td>2</td>\n      <td>245000000</td>\n      <td>Action Adventure Crime</td>\n      <td>http://www.sonypictures.com/movies/spectre/</td>\n      <td>206647</td>\n      <td>spy based on novel secret agent sequel mi6</td>\n      <td>en</td>\n      <td>Spectre</td>\n      <td>A cryptic message from Bond’s past sends him o...</td>\n      <td>107.376788</td>\n      <td>...</td>\n      <td>148.0</td>\n      <td>[{\"iso_639_1\": \"fr\", \"name\": \"Fran\\u00e7ais\"},...</td>\n      <td>Released</td>\n      <td>A Plan No One Escapes</td>\n      <td>Spectre</td>\n      <td>6.3</td>\n      <td>4466</td>\n      <td>Daniel Craig Christoph Waltz L\\u00e9a Seydoux ...</td>\n      <td>[{'name': 'Thomas Newman', 'gender': 2, 'depar...</td>\n      <td>Sam Mendes</td>\n    </tr>\n    <tr>\n      <th>3</th>\n      <td>3</td>\n      <td>250000000</td>\n      <td>Action Crime Drama Thriller</td>\n      <td>http://www.thedarkknightrises.com/</td>\n      <td>49026</td>\n      <td>dc comics crime fighter terrorist secret ident...</td>\n      <td>en</td>\n      <td>The Dark Knight Rises</td>\n      <td>Following the death of District Attorney Harve...</td>\n      <td>112.312950</td>\n      <td>...</td>\n      <td>165.0</td>\n      <td>[{\"iso_639_1\": \"en\", \"name\": \"English\"}]</td>\n      <td>Released</td>\n      <td>The Legend Ends</td>\n      <td>The Dark Knight Rises</td>\n      <td>7.6</td>\n      <td>9106</td>\n      <td>Christian Bale Michael Caine Gary Oldman Anne ...</td>\n      <td>[{'name': 'Hans Zimmer', 'gender': 2, 'departm...</td>\n      <td>Christopher Nolan</td>\n    </tr>\n    <tr>\n      <th>4</th>\n      <td>4</td>\n      <td>260000000</td>\n      <td>Action Adventure Science Fiction</td>\n      <td>http://movies.disney.com/john-carter</td>\n      <td>49529</td>\n      <td>based on novel mars medallion space travel pri...</td>\n      <td>en</td>\n      <td>John Carter</td>\n      <td>John Carter is a war-weary, former military ca...</td>\n      <td>43.926995</td>\n      <td>...</td>\n      <td>132.0</td>\n      <td>[{\"iso_639_1\": \"en\", \"name\": \"English\"}]</td>\n      <td>Released</td>\n      <td>Lost in our world, found in another.</td>\n      <td>John Carter</td>\n      <td>6.1</td>\n      <td>2124</td>\n      <td>Taylor Kitsch Lynn Collins Samantha Morton Wil...</td>\n      <td>[{'name': 'Andrew Stanton', 'gender': 2, 'depa...</td>\n      <td>Andrew Stanton</td>\n    </tr>\n  </tbody>\n</table>\n<p>5 rows × 24 columns</p>\n</div>"
          },
          "metadata": {}
        }
      ],
      "execution_count": 4
    },
    {
      "cell_type": "code",
      "source": "# show the num of rows and columns\ndata.shape",
      "metadata": {
        "trusted": true
      },
      "outputs": [
        {
          "execution_count": 5,
          "output_type": "execute_result",
          "data": {
            "text/plain": "(4803, 24)"
          },
          "metadata": {}
        }
      ],
      "execution_count": 5
    },
    {
      "cell_type": "code",
      "source": "# show more information\ndata.info()",
      "metadata": {
        "trusted": true
      },
      "outputs": [
        {
          "name": "stdout",
          "text": "<class 'pandas.core.frame.DataFrame'>\nRangeIndex: 4803 entries, 0 to 4802\nData columns (total 24 columns):\n #   Column                Non-Null Count  Dtype  \n---  ------                --------------  -----  \n 0   index                 4803 non-null   int64  \n 1   budget                4803 non-null   int64  \n 2   genres                4775 non-null   object \n 3   homepage              1712 non-null   object \n 4   id                    4803 non-null   int64  \n 5   keywords              4391 non-null   object \n 6   original_language     4803 non-null   object \n 7   original_title        4803 non-null   object \n 8   overview              4800 non-null   object \n 9   popularity            4803 non-null   float64\n 10  production_companies  4803 non-null   object \n 11  production_countries  4803 non-null   object \n 12  release_date          4802 non-null   object \n 13  revenue               4803 non-null   int64  \n 14  runtime               4801 non-null   float64\n 15  spoken_languages      4803 non-null   object \n 16  status                4803 non-null   object \n 17  tagline               3959 non-null   object \n 18  title                 4803 non-null   object \n 19  vote_average          4803 non-null   float64\n 20  vote_count            4803 non-null   int64  \n 21  cast                  4760 non-null   object \n 22  crew                  4803 non-null   object \n 23  director              4773 non-null   object \ndtypes: float64(3), int64(5), object(16)\nmemory usage: 600.4+ KB\n",
          "output_type": "stream"
        }
      ],
      "execution_count": 6
    },
    {
      "cell_type": "code",
      "source": "# selecting the relevant features\nselected = ['genres','keywords','tagline','cast','director']",
      "metadata": {
        "trusted": true
      },
      "outputs": [],
      "execution_count": 7
    },
    {
      "cell_type": "code",
      "source": "# replacing null values\nfor feature in selected:\n    data[feature] = data[feature].fillna('')",
      "metadata": {
        "trusted": true
      },
      "outputs": [],
      "execution_count": 8
    },
    {
      "cell_type": "code",
      "source": "# combined the 5 features\ncombined = data['genres'] + \" \" + data['keywords'] + \" \" + data['tagline'] + \" \" + data['cast'] + \" \" + data['director']\ncombined",
      "metadata": {
        "trusted": true
      },
      "outputs": [
        {
          "execution_count": 9,
          "output_type": "execute_result",
          "data": {
            "text/plain": "0       Action Adventure Fantasy Science Fiction cultu...\n1       Adventure Fantasy Action ocean drug abuse exot...\n2       Action Adventure Crime spy based on novel secr...\n3       Action Crime Drama Thriller dc comics crime fi...\n4       Action Adventure Science Fiction based on nove...\n                              ...                        \n4798    Action Crime Thriller united states\\u2013mexic...\n4799    Comedy Romance  A newlywed couple's honeymoon ...\n4800    Comedy Drama Romance TV Movie date love at fir...\n4801      A New Yorker in Shanghai Daniel Henney Eliza...\n4802    Documentary obsession camcorder crush dream gi...\nLength: 4803, dtype: object"
          },
          "metadata": {}
        }
      ],
      "execution_count": 9
    },
    {
      "cell_type": "code",
      "source": "vectorizer = TfidfVectorizer()",
      "metadata": {
        "trusted": true
      },
      "outputs": [],
      "execution_count": 10
    },
    {
      "cell_type": "code",
      "source": "vectorized = vectorizer.fit_transform(combined)",
      "metadata": {
        "trusted": true
      },
      "outputs": [],
      "execution_count": 11
    },
    {
      "cell_type": "code",
      "source": "similarity = cosine_similarity(vectorized)",
      "metadata": {
        "trusted": true
      },
      "outputs": [],
      "execution_count": 12
    },
    {
      "cell_type": "markdown",
      "source": "Build a recommender system",
      "metadata": {}
    },
    {
      "cell_type": "code",
      "source": "def recommend_movies(movie_name, data, similarity):\n    # Convert movie name to string and handle potential input issues\n    movie_name = str(movie_name).strip()\n    \n    # List all movies in the dataset\n    listed_movies = data['title'].tolist()\n    \n    # Find the closest match for the input movie name\n    try:\n        closed_matches = difflib.get_close_matches(movie_name, listed_movies, n=1, cutoff=0.6)\n        \n        # Check if any close matches were found\n        if not closed_matches:\n            print(f\"No close match found for '{movie_name}'. Please check the movie name.\")\n            return []\n        \n        # Get the first close match\n        close_match = closed_matches[0]\n        \n        # Get the index of the matched movie\n        movie_index = data[data['title'] == close_match]['index'].values[0]\n        \n        # Calculate similarity scores\n        similarity_score = list(enumerate(similarity[movie_index]))\n        \n        # Sort movies based on similarity score\n        sorted_movie = sorted(similarity_score, key=lambda x: x[1], reverse=True)\n        \n        # Print recommended movies\n        print(f'Movies suggested based on {close_match}:\\n')\n        for i, (index, score) in enumerate(sorted_movie[1:31], 1):  # Skip the first one (the movie itself)\n            name_of_movie = data[data['index'] == index]['title'].values[0]\n            print(f'{i}. {name_of_movie}')\n    \n    except Exception as e:\n        print(f\"An error occurred: {e}\")\n        return []",
      "metadata": {
        "trusted": true
      },
      "outputs": [],
      "execution_count": 48
    },
    {
      "cell_type": "code",
      "source": "recommend_movies(\"batman\",data,similarity)",
      "metadata": {
        "trusted": true
      },
      "outputs": [
        {
          "name": "stdout",
          "text": "Movies suggested based on Batman:\n\n1. Batman Returns\n2. Batman & Robin\n3. The Dark Knight Rises\n4. Batman Begins\n5. The Dark Knight\n6. A History of Violence\n7. Superman\n8. Beetlejuice\n9. Bedazzled\n10. Mars Attacks!\n11. The Sentinel\n12. Planet of the Apes\n13. Man of Steel\n14. Suicide Squad\n15. The Mask\n16. Salton Sea\n17. Spider-Man 3\n18. The Postman Always Rings Twice\n19. Hang 'em High\n20. Spider-Man 2\n21. Dungeons & Dragons: Wrath of the Dragon God\n22. Superman Returns\n23. Jonah Hex\n24. Exorcist II: The Heretic\n25. Superman II\n26. Green Lantern\n27. Superman III\n28. Something's Gotta Give\n29. Reds\n30. Batman Forever\n",
          "output_type": "stream"
        }
      ],
      "execution_count": 49
    }
  ]
}